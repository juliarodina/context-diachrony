{
 "cells": [
  {
   "cell_type": "code",
   "execution_count": 2,
   "metadata": {},
   "outputs": [],
   "source": [
    "import numpy as np\n",
    "import krippendorff\n",
    "import pandas as pd"
   ]
  },
  {
   "cell_type": "code",
   "execution_count": 77,
   "metadata": {},
   "outputs": [],
   "source": [
    "dataset = pd.read_csv('./annotated/sample_0_0_DUREL.tsv', sep='\\t')"
   ]
  },
  {
   "cell_type": "code",
   "execution_count": 78,
   "metadata": {},
   "outputs": [
    {
     "data": {
      "text/plain": [
       "(300, 10)"
      ]
     },
     "execution_count": 78,
     "metadata": {},
     "output_type": "execute_result"
    }
   ],
   "source": [
    "dataset.shape"
   ]
  },
  {
   "cell_type": "code",
   "execution_count": 79,
   "metadata": {},
   "outputs": [
    {
     "name": "stdout",
     "output_type": "stream",
     "text": [
      "Instances: 300\n",
      "Krippendorff Alpha: 0.46211983081735974\n"
     ]
    }
   ],
   "source": [
    "def agreement(dataset):\n",
    "    scores = np.zeros((5, dataset.shape[0]), dtype=int)\n",
    "\n",
    "    for nr, annotator in enumerate(['annotator1', 'annotator2', 'annotator3', 'annotator4', 'annotator5']):\n",
    "        scores[nr, :] = dataset[annotator].values\n",
    "\n",
    "    # print('Raters:', scores.shape[0])\n",
    "    print('Instances:', scores.shape[1])\n",
    "\n",
    "\n",
    "    agreement = krippendorff.alpha(scores)\n",
    "\n",
    "    print('Krippendorff Alpha:', agreement)\n",
    "    \n",
    "agreement(dataset)"
   ]
  },
  {
   "cell_type": "code",
   "execution_count": 76,
   "metadata": {},
   "outputs": [
    {
     "data": {
      "text/plain": [
       "['богадельня', 'машина', 'молодец', 'особа', 'переулок']"
      ]
     },
     "execution_count": 76,
     "metadata": {},
     "output_type": "execute_result"
    }
   ],
   "source": [
    "words = dataset.word.unique().tolist()\n",
    "words"
   ]
  },
  {
   "cell_type": "code",
   "execution_count": 80,
   "metadata": {},
   "outputs": [
    {
     "name": "stdout",
     "output_type": "stream",
     "text": [
      "Word: богадельня\n",
      "Instances: 60\n",
      "Krippendorff Alpha: 0.23860504701177987\n",
      "\n",
      "Word: машина\n",
      "Instances: 60\n",
      "Krippendorff Alpha: 0.4706179040516474\n",
      "\n",
      "Word: молодец\n",
      "Instances: 60\n",
      "Krippendorff Alpha: 0.517250909090909\n",
      "\n",
      "Word: особа\n",
      "Instances: 60\n",
      "Krippendorff Alpha: 0.12052075606824053\n",
      "\n",
      "Word: переулок\n",
      "Instances: 60\n",
      "Krippendorff Alpha: 0.22660884108986956\n",
      "\n"
     ]
    }
   ],
   "source": [
    "for word in words:\n",
    "    dataset_word = dataset[dataset['word'] == word]\n",
    "    print('Word:', word)\n",
    "    agreement(dataset_word)\n",
    "    print()"
   ]
  },
  {
   "cell_type": "code",
   "execution_count": null,
   "metadata": {},
   "outputs": [],
   "source": []
  }
 ],
 "metadata": {
  "kernelspec": {
   "display_name": "Python 3",
   "language": "python",
   "name": "python3"
  },
  "language_info": {
   "codemirror_mode": {
    "name": "ipython",
    "version": 3
   },
   "file_extension": ".py",
   "mimetype": "text/x-python",
   "name": "python",
   "nbconvert_exporter": "python",
   "pygments_lexer": "ipython3",
   "version": "3.7.5"
  }
 },
 "nbformat": 4,
 "nbformat_minor": 4
}
