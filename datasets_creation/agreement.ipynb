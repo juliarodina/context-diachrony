{
 "cells": [
  {
   "cell_type": "code",
   "execution_count": 1,
   "metadata": {},
   "outputs": [],
   "source": [
    "import numpy as np\n",
    "import krippendorff\n",
    "import pandas as pd"
   ]
  },
  {
   "cell_type": "code",
   "execution_count": 6,
   "metadata": {},
   "outputs": [],
   "source": [
    "dataset0 = pd.read_csv('dataset_0_ANNOTATED.tsv', sep='\\t')\n",
    "dataset1 = pd.read_csv('dataset_1_ANNOTATED.tsv', sep='\\t')"
   ]
  },
  {
   "cell_type": "code",
   "execution_count": 7,
   "metadata": {},
   "outputs": [
    {
     "data": {
      "text/plain": [
       "(4215, 10)"
      ]
     },
     "execution_count": 7,
     "metadata": {},
     "output_type": "execute_result"
    }
   ],
   "source": [
    "dataset0.shape"
   ]
  },
  {
   "cell_type": "code",
   "execution_count": 8,
   "metadata": {},
   "outputs": [
    {
     "data": {
      "text/plain": [
       "(3633, 10)"
      ]
     },
     "execution_count": 8,
     "metadata": {},
     "output_type": "execute_result"
    }
   ],
   "source": [
    "dataset1.shape"
   ]
  },
  {
   "cell_type": "code",
   "execution_count": 11,
   "metadata": {},
   "outputs": [
    {
     "data": {
      "text/plain": [
       "4193"
      ]
     },
     "execution_count": 11,
     "metadata": {},
     "output_type": "execute_result"
    }
   ],
   "source": [
    "dataset0 = dataset0[(dataset0.annotator1 != 0) & (dataset0.annotator2 != 0) & (dataset0.annotator3 != 0)\n",
    "                    & (dataset0.annotator4 != 0) & (dataset0.annotator5 != 0)]\n",
    "len(dataset0)"
   ]
  },
  {
   "cell_type": "code",
   "execution_count": 12,
   "metadata": {},
   "outputs": [
    {
     "data": {
      "text/plain": [
       "3594"
      ]
     },
     "execution_count": 12,
     "metadata": {},
     "output_type": "execute_result"
    }
   ],
   "source": [
    "dataset1 = dataset1[(dataset1.annotator1 != 0) & (dataset1.annotator2 != 0) & (dataset1.annotator3 != 0)\n",
    "                    & (dataset1.annotator4 != 0) & (dataset1.annotator5 != 0)]\n",
    "len(dataset1)"
   ]
  },
  {
   "cell_type": "code",
   "execution_count": 13,
   "metadata": {},
   "outputs": [],
   "source": [
    "def agreement(dataset):\n",
    "    scores = np.zeros((5, dataset.shape[0]), dtype=int)\n",
    "\n",
    "    for nr, annotator in enumerate(['annotator1', 'annotator2', 'annotator3', 'annotator4', 'annotator5']):\n",
    "        scores[nr, :] = dataset[annotator].values\n",
    "\n",
    "    # print('Raters:', scores.shape[0])\n",
    "    # print('Instances:', scores.shape[1])\n",
    "\n",
    "\n",
    "    agreement = krippendorff.alpha(scores)\n",
    "\n",
    "    # print('Krippendorff Alpha:', agreement)\n",
    "    \n",
    "    return agreement"
   ]
  },
  {
   "cell_type": "code",
   "execution_count": 14,
   "metadata": {},
   "outputs": [
    {
     "data": {
      "text/plain": [
       "0.5381442897150754"
      ]
     },
     "execution_count": 14,
     "metadata": {},
     "output_type": "execute_result"
    }
   ],
   "source": [
    "agreement(dataset0)"
   ]
  },
  {
   "cell_type": "code",
   "execution_count": 15,
   "metadata": {},
   "outputs": [
    {
     "data": {
      "text/plain": [
       "0.5464951323056048"
      ]
     },
     "execution_count": 15,
     "metadata": {},
     "output_type": "execute_result"
    }
   ],
   "source": [
    "agreement(dataset1)"
   ]
  },
  {
   "cell_type": "code",
   "execution_count": 16,
   "metadata": {},
   "outputs": [
    {
     "data": {
      "text/plain": [
       "7787"
      ]
     },
     "execution_count": 16,
     "metadata": {},
     "output_type": "execute_result"
    }
   ],
   "source": [
    "datasets = pd.concat([dataset0, dataset1], ignore_index=True)\n",
    "len(datasets)"
   ]
  },
  {
   "cell_type": "code",
   "execution_count": 17,
   "metadata": {},
   "outputs": [
    {
     "data": {
      "text/plain": [
       "0.5426281902389232"
      ]
     },
     "execution_count": 17,
     "metadata": {},
     "output_type": "execute_result"
    }
   ],
   "source": [
    "agreement(datasets)"
   ]
  },
  {
   "cell_type": "code",
   "execution_count": 18,
   "metadata": {},
   "outputs": [],
   "source": [
    "df_alpha = pd.DataFrame({'name': ['ALL', 'dataset_0', 'dataset_1'], 'dataset': ['-', '-', '-'],\n",
    "                         'alpha': [agreement(datasets), agreement(dataset0), agreement(dataset1)]})"
   ]
  },
  {
   "cell_type": "code",
   "execution_count": 19,
   "metadata": {},
   "outputs": [
    {
     "data": {
      "text/html": [
       "<div>\n",
       "<style scoped>\n",
       "    .dataframe tbody tr th:only-of-type {\n",
       "        vertical-align: middle;\n",
       "    }\n",
       "\n",
       "    .dataframe tbody tr th {\n",
       "        vertical-align: top;\n",
       "    }\n",
       "\n",
       "    .dataframe thead th {\n",
       "        text-align: right;\n",
       "    }\n",
       "</style>\n",
       "<table border=\"1\" class=\"dataframe\">\n",
       "  <thead>\n",
       "    <tr style=\"text-align: right;\">\n",
       "      <th></th>\n",
       "      <th>name</th>\n",
       "      <th>dataset</th>\n",
       "      <th>alpha</th>\n",
       "    </tr>\n",
       "  </thead>\n",
       "  <tbody>\n",
       "    <tr>\n",
       "      <th>0</th>\n",
       "      <td>ALL</td>\n",
       "      <td>-</td>\n",
       "      <td>0.542628</td>\n",
       "    </tr>\n",
       "    <tr>\n",
       "      <th>1</th>\n",
       "      <td>dataset_0</td>\n",
       "      <td>-</td>\n",
       "      <td>0.538144</td>\n",
       "    </tr>\n",
       "    <tr>\n",
       "      <th>2</th>\n",
       "      <td>dataset_1</td>\n",
       "      <td>-</td>\n",
       "      <td>0.546495</td>\n",
       "    </tr>\n",
       "  </tbody>\n",
       "</table>\n",
       "</div>"
      ],
      "text/plain": [
       "        name dataset     alpha\n",
       "0        ALL       -  0.542628\n",
       "1  dataset_0       -  0.538144\n",
       "2  dataset_1       -  0.546495"
      ]
     },
     "execution_count": 19,
     "metadata": {},
     "output_type": "execute_result"
    }
   ],
   "source": [
    "df_alpha.head()"
   ]
  },
  {
   "cell_type": "code",
   "execution_count": 20,
   "metadata": {},
   "outputs": [
    {
     "data": {
      "text/plain": [
       "array(['богадельня', 'машина', 'молодец', 'особа', 'переулок', 'больница',\n",
       "       'декрет', 'дождь', 'заведующий', 'мама', 'насаждение', 'неудачник',\n",
       "       'овес', 'отдел', 'свалка', 'сволочь', 'серединный', 'смотритель',\n",
       "       'ссора', 'трибунал', 'червяк', 'агентство', 'археолог', 'бюрократ',\n",
       "       'весна', 'вино', 'влажный', 'войско', 'вывеска', 'графиня',\n",
       "       'директор', 'дума', 'заключенный', 'защитник', 'знатный',\n",
       "       'казенный', 'классный', 'клиника', 'комиссар', 'мазь', 'новичок',\n",
       "       'ночлег', 'обвинитель', 'отделение', 'отрывок', 'пакет', 'палата',\n",
       "       'передовой', 'пионер', 'похищение', 'правитель', 'привет',\n",
       "       'присутствие', 'прозвище', 'пружина', 'публика', 'секция', 'собор',\n",
       "       'стиль', 'тетка', 'торжественный', 'тройка', 'трубка', 'уклон',\n",
       "       'управа', 'управление', 'участок', 'философ', 'чиновник',\n",
       "       'элемент', 'юношество'], dtype=object)"
      ]
     },
     "execution_count": 20,
     "metadata": {},
     "output_type": "execute_result"
    }
   ],
   "source": [
    "words0 = dataset0['word'].unique()\n",
    "words0"
   ]
  },
  {
   "cell_type": "code",
   "execution_count": 21,
   "metadata": {},
   "outputs": [
    {
     "data": {
      "text/plain": [
       "array(['ателье', 'бескомпромиссность', 'беспредел', 'благотворительность',\n",
       "       'блочный', 'боевик', 'ботаник', 'брезентовый', 'валюта',\n",
       "       'валютный', 'вампир', 'взлом', 'вирус', 'выплеск', 'высоколобый',\n",
       "       'вышка', 'гермафродит', 'гильдия', 'гимназия', 'глянец', 'гололед',\n",
       "       'голубой', 'двушка', 'дивизион', 'донорство', 'драйвер', 'завязка',\n",
       "       'загрузка', 'знамя', 'игра', 'инкубатор', 'исполнитель', 'карта',\n",
       "       'классный', 'корпус', 'лилипут', 'ломберный', 'мгновение',\n",
       "       'модель', 'мыло', 'одежда', 'однодневка', 'орбита', 'осуществимый',\n",
       "       'пакет', 'партиец', 'перестройка', 'погрешность', 'подстава',\n",
       "       'предощущение', 'приношение', 'прислуга', 'приставка',\n",
       "       'провальный', 'продукция', 'раскрутка', 'рождество', 'рынок',\n",
       "       'рыночный', 'свинцовый', 'собака', 'сомнение', 'стаканчик',\n",
       "       'стачка', 'стиль', 'удвоение', 'флакон', 'четырехлетка',\n",
       "       'эрмитажный'], dtype=object)"
      ]
     },
     "execution_count": 21,
     "metadata": {},
     "output_type": "execute_result"
    }
   ],
   "source": [
    "words1 = dataset1['word'].unique()\n",
    "words1"
   ]
  },
  {
   "cell_type": "code",
   "execution_count": 22,
   "metadata": {},
   "outputs": [
    {
     "data": {
      "text/plain": [
       "{'классный', 'пакет', 'стиль'}"
      ]
     },
     "execution_count": 22,
     "metadata": {},
     "output_type": "execute_result"
    }
   ],
   "source": [
    "set(words0).intersection(set(words1))"
   ]
  },
  {
   "cell_type": "code",
   "execution_count": 23,
   "metadata": {},
   "outputs": [],
   "source": [
    "for word in words0:\n",
    "    dataset_word = dataset0[dataset0['word'] == word]\n",
    "    df_alpha = df_alpha.append({'name': word, 'dataset': '0',\n",
    "                         'alpha': agreement(dataset_word)}, ignore_index=True)"
   ]
  },
  {
   "cell_type": "code",
   "execution_count": 24,
   "metadata": {},
   "outputs": [],
   "source": [
    "for word in words1:\n",
    "    dataset_word = dataset1[dataset1['word'] == word]\n",
    "    df_alpha = df_alpha.append({'name': word, 'dataset': '1',\n",
    "                         'alpha': agreement(dataset_word)}, ignore_index=True)"
   ]
  },
  {
   "cell_type": "code",
   "execution_count": 25,
   "metadata": {},
   "outputs": [
    {
     "data": {
      "text/html": [
       "<div>\n",
       "<style scoped>\n",
       "    .dataframe tbody tr th:only-of-type {\n",
       "        vertical-align: middle;\n",
       "    }\n",
       "\n",
       "    .dataframe tbody tr th {\n",
       "        vertical-align: top;\n",
       "    }\n",
       "\n",
       "    .dataframe thead th {\n",
       "        text-align: right;\n",
       "    }\n",
       "</style>\n",
       "<table border=\"1\" class=\"dataframe\">\n",
       "  <thead>\n",
       "    <tr style=\"text-align: right;\">\n",
       "      <th></th>\n",
       "      <th>name</th>\n",
       "      <th>dataset</th>\n",
       "      <th>alpha</th>\n",
       "    </tr>\n",
       "  </thead>\n",
       "  <tbody>\n",
       "    <tr>\n",
       "      <th>0</th>\n",
       "      <td>ALL</td>\n",
       "      <td>-</td>\n",
       "      <td>0.542628</td>\n",
       "    </tr>\n",
       "    <tr>\n",
       "      <th>1</th>\n",
       "      <td>dataset_0</td>\n",
       "      <td>-</td>\n",
       "      <td>0.538144</td>\n",
       "    </tr>\n",
       "    <tr>\n",
       "      <th>2</th>\n",
       "      <td>dataset_1</td>\n",
       "      <td>-</td>\n",
       "      <td>0.546495</td>\n",
       "    </tr>\n",
       "    <tr>\n",
       "      <th>3</th>\n",
       "      <td>богадельня</td>\n",
       "      <td>0</td>\n",
       "      <td>0.238605</td>\n",
       "    </tr>\n",
       "    <tr>\n",
       "      <th>4</th>\n",
       "      <td>машина</td>\n",
       "      <td>0</td>\n",
       "      <td>0.470618</td>\n",
       "    </tr>\n",
       "  </tbody>\n",
       "</table>\n",
       "</div>"
      ],
      "text/plain": [
       "         name dataset     alpha\n",
       "0         ALL       -  0.542628\n",
       "1   dataset_0       -  0.538144\n",
       "2   dataset_1       -  0.546495\n",
       "3  богадельня       0  0.238605\n",
       "4      машина       0  0.470618"
      ]
     },
     "execution_count": 25,
     "metadata": {},
     "output_type": "execute_result"
    }
   ],
   "source": [
    "df_alpha.head()"
   ]
  },
  {
   "cell_type": "code",
   "execution_count": 26,
   "metadata": {},
   "outputs": [
    {
     "data": {
      "text/html": [
       "<div>\n",
       "<style scoped>\n",
       "    .dataframe tbody tr th:only-of-type {\n",
       "        vertical-align: middle;\n",
       "    }\n",
       "\n",
       "    .dataframe tbody tr th {\n",
       "        vertical-align: top;\n",
       "    }\n",
       "\n",
       "    .dataframe thead th {\n",
       "        text-align: right;\n",
       "    }\n",
       "</style>\n",
       "<table border=\"1\" class=\"dataframe\">\n",
       "  <thead>\n",
       "    <tr style=\"text-align: right;\">\n",
       "      <th></th>\n",
       "      <th>name</th>\n",
       "      <th>dataset</th>\n",
       "      <th>alpha</th>\n",
       "    </tr>\n",
       "  </thead>\n",
       "  <tbody>\n",
       "    <tr>\n",
       "      <th>138</th>\n",
       "      <td>стиль</td>\n",
       "      <td>1</td>\n",
       "      <td>0.207059</td>\n",
       "    </tr>\n",
       "    <tr>\n",
       "      <th>139</th>\n",
       "      <td>удвоение</td>\n",
       "      <td>1</td>\n",
       "      <td>0.230864</td>\n",
       "    </tr>\n",
       "    <tr>\n",
       "      <th>140</th>\n",
       "      <td>флакон</td>\n",
       "      <td>1</td>\n",
       "      <td>0.387607</td>\n",
       "    </tr>\n",
       "    <tr>\n",
       "      <th>141</th>\n",
       "      <td>четырехлетка</td>\n",
       "      <td>1</td>\n",
       "      <td>0.394914</td>\n",
       "    </tr>\n",
       "    <tr>\n",
       "      <th>142</th>\n",
       "      <td>эрмитажный</td>\n",
       "      <td>1</td>\n",
       "      <td>0.154653</td>\n",
       "    </tr>\n",
       "  </tbody>\n",
       "</table>\n",
       "</div>"
      ],
      "text/plain": [
       "             name dataset     alpha\n",
       "138         стиль       1  0.207059\n",
       "139      удвоение       1  0.230864\n",
       "140        флакон       1  0.387607\n",
       "141  четырехлетка       1  0.394914\n",
       "142    эрмитажный       1  0.154653"
      ]
     },
     "execution_count": 26,
     "metadata": {},
     "output_type": "execute_result"
    }
   ],
   "source": [
    "df_alpha.tail()"
   ]
  },
  {
   "cell_type": "code",
   "execution_count": 28,
   "metadata": {},
   "outputs": [],
   "source": [
    "df_alpha.to_csv('alpha_values.tsv', sep='\\t', index=False)"
   ]
  },
  {
   "cell_type": "code",
   "execution_count": null,
   "metadata": {},
   "outputs": [],
   "source": []
  }
 ],
 "metadata": {
  "kernelspec": {
   "display_name": "Python 3",
   "language": "python",
   "name": "python3"
  },
  "language_info": {
   "codemirror_mode": {
    "name": "ipython",
    "version": 3
   },
   "file_extension": ".py",
   "mimetype": "text/x-python",
   "name": "python",
   "nbconvert_exporter": "python",
   "pygments_lexer": "ipython3",
   "version": "3.7.5"
  }
 },
 "nbformat": 4,
 "nbformat_minor": 4
}
